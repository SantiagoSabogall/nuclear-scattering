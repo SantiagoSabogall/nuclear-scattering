{
 "cells": [
  {
   "cell_type": "markdown",
   "id": "01365d0e",
   "metadata": {},
   "source": [
    "## Transformation of experimental dispersion data to the center-of-mass system and comparison with the Rutherford cross section\n",
    "\n",
    "In a scattering experiment a beam of $^9\\mathrm{Be}$ ($Z_P = 4$) nuclei with energy \n",
    "$E_{\\mathrm{lab}} = 19 \\, \\mathrm{MeV}$ impinges on a thin solid target of \n",
    "$^{64}\\mathrm{Zn}$ ($Z_T = 30$). The scattered particles are measured by a set of five detectors distributed on \n",
    "a circumference at the angles (referred to the beam direction) $\\theta_1, \\ldots, \\theta_5$.\n",
    "\n",
    "The yields in the detectors, $N(\\theta)$, are listed in the table below. The experimental setup is such that the product \n",
    "$J \\cdot n \\cdot \\Delta \\Omega = 2.9 \\times 10^{27} \\, \\mathrm{cm}^{-2}$.\n",
    "\n",
    "Transform these angles to the CM-frame and obtain the corresponding experimental cross sections. Plot the experimental \n",
    "points in comparison with the Rutherford cross section.\n",
    "\n",
    "$$\n",
    "\\left( \\frac{d\\sigma}{d\\Omega} \\right)_{\\mathrm{Ruth}} = \\frac{a^2}{4} \\left[ \\frac{1}{\\sin^4 (\\theta/2)} \\right]\n",
    "$$\n",
    "\n",
    "with\n",
    "\n",
    "$$\n",
    "a = \\frac{1}{2} \\left( \\frac{e^2 Z_P Z_T}{4\\pi \\varepsilon_0 E} \\right),\n",
    "$$\n",
    "\n",
    "where $e$ is the absolute value of the electronic charge and \n",
    "$v = \\sqrt{2 E_{\\mathrm{lab}} / M_P}$.\n",
    "\n",
    "**Canto, L. F., & Hussein, M. S.** (2013). *Scattering Theory of Molecules, Atoms and Nuclei*. World Scientific Publishing.\n",
    "\n"
   ]
  },
  {
   "cell_type": "markdown",
   "id": "feb6ce7a",
   "metadata": {},
   "source": [
    "| $\\theta$ (deg)     | 30         | 60         | 90       | 120      | 150      |\n",
    "|--------------------|------------|------------|----------|----------|----------|\n",
    "| $N(\\theta)$        | 32983 ± 181| 2296 ± 50  | 545 ± 10 | 181 ± 7  | 82 ± 3   |\n"
   ]
  },
  {
   "cell_type": "code",
   "execution_count": 125,
   "id": "77473359",
   "metadata": {},
   "outputs": [],
   "source": [
    "import numpy as np\n",
    "import matplotlib.pyplot as plt\n",
    "\n",
    "theta_lab_deg_ = np.array([30, 60, 90, 120, 150])\n",
    "theta_lab_rad = np.radians(theta_lab_deg_)   # Convert degrees to radians\n",
    "mP = 9.0121822                               # Mass of beryllium-9 in atomic mass units (u)\n",
    "mT = 63.9291                                 # Mass of Zinc-64 in atomic mass units (u)\n",
    "λ = mP / mT                                  # Ratio of masses"
   ]
  },
  {
   "cell_type": "markdown",
   "id": "86250b00",
   "metadata": {},
   "source": [
    "To transform the angles of the laboratory we use equation (1.30) valid for  λ < 1\n",
    "$$\n",
    "\\cos \\theta_{\\text{c.m.}} = -\\lambda \\sin^2 \\theta_{\\text{lab}} \n",
    "+ \\cos \\theta_{\\text{lab}} \\sqrt{1 - \\lambda^2 \\sin^2 \\theta_{\\text{lab}}}, \n",
    "\\quad \\text{for } \\lambda < 1 \\tag{1.30}\n",
    "$$\n"
   ]
  },
  {
   "cell_type": "code",
   "execution_count": 126,
   "id": "fb8ba389",
   "metadata": {},
   "outputs": [
    {
     "name": "stdout",
     "output_type": "stream",
     "text": [
      "Theta in CM (degrees): [ 34.0419  67.0124  98.1041 127.0124 154.0419]\n"
     ]
    }
   ],
   "source": [
    "def angles_in_CM(theta):\n",
    "     alpha =  np.arccos( - λ * np.sin(theta)**2 + np.cos(theta) * np.sqrt(1 - λ**2 * np.sin(theta)**2))\n",
    "     return alpha\n",
    "\n",
    "theta_cm_rad = (angles_in_CM(theta_lab_rad)) \n",
    "theta_cm_deg = np.degrees(theta_cm_rad) \n",
    "print(\"Theta in CM (degrees):\", np.round(theta_cm_deg, 4))\n",
    " "
   ]
  },
  {
   "cell_type": "markdown",
   "id": "014d93b3",
   "metadata": {},
   "source": [
    "| θ_lab (deg) | θ_CM (deg) |\n",
    "|-------------|------------|\n",
    "| 30          | 34.0419    |\n",
    "| 60          | 67.0124    |\n",
    "| 90          | 98.1041    |\n",
    "| 120         | 127.0124   |\n",
    "| 150         | 154.0419   |\n"
   ]
  },
  {
   "cell_type": "code",
   "execution_count": 127,
   "id": "159f719f",
   "metadata": {},
   "outputs": [],
   "source": [
    "N_theta  = np.array([32983, 2296, 545, 181, 82]) # Yield in the detector (counts)\n",
    "N_theta_error = np.array([181,50, 10,7,3])\n",
    "J_n_domega  = 2.9e27                              # cm^(-2)"
   ]
  },
  {
   "cell_type": "markdown",
   "id": "874ca143",
   "metadata": {},
   "source": [
    "$$\n",
    "\\left( \\frac{d\\sigma}{d\\Omega} \\right)_{\\mathrm{Lab}} = \\frac{N(\\theta)}{J \\cdot n \\cdot \\Delta \\Omega}\n",
    "$$\n"
   ]
  },
  {
   "cell_type": "code",
   "execution_count": 128,
   "id": "4cbff599",
   "metadata": {},
   "outputs": [
    {
     "name": "stdout",
     "output_type": "stream",
     "text": [
      "θ = 30°: σ_lab = 11.373 ± 0.062 b/sr\n",
      "θ = 60°: σ_lab = 0.792 ± 0.017 b/sr\n",
      "θ = 90°: σ_lab = 0.188 ± 0.003 b/sr\n",
      "θ = 120°: σ_lab = 0.062 ± 0.002 b/sr\n",
      "θ = 150°: σ_lab = 0.028 ± 0.001 b/sr\n"
     ]
    }
   ],
   "source": [
    "cross_section_lab  = N_theta / J_n_domega\n",
    "cross_section_error = N_theta_error / J_n_domega\n",
    "cross_section_lab_b = cross_section_lab / 1e-24\n",
    "cross_section_error_b = cross_section_error / 1e-24  # Convert to barns/sr\n",
    "\n",
    "for i in range(len(N_theta)):\n",
    "    print(f\"θ = {30 + i*30}°: σ_lab = {cross_section_lab_b[i]:.3f} ± {cross_section_error_b[i]:.3f} b/sr\")"
   ]
  },
  {
   "cell_type": "code",
   "execution_count": 130,
   "id": "880eb5b3",
   "metadata": {},
   "outputs": [
    {
     "name": "stdout",
     "output_type": "stream",
     "text": [
      "Experimental Cross Section in CM Frame:\n",
      "θ_CM = 34.04°: σ_CM = 9.051 ± 0.050 b/sr\n",
      "θ_CM = 67.01°: σ_CM = 0.695 ± 0.015 b/sr\n",
      "θ_CM = 98.10°: σ_CM = 0.190 ± 0.003 b/sr\n",
      "θ_CM = 127.01°: σ_CM = 0.073 ± 0.003 b/sr\n",
      "θ_CM = 154.04°: σ_CM = 0.037 ± 0.001 b/sr\n"
     ]
    },
    {
     "data": {
      "image/png": "[encoded data removed]",
      "text/plain": [
       "<Figure size 640x480 with 1 Axes>"
      ]
     },
     "metadata": {},
     "output_type": "display_data"
    }
   ],
   "source": [
    "#Rutherford cross section\n",
    "ZP = 4    \n",
    "ZT = 30\n",
    "b = 1.44                               # e^2 / 4πε  MeV*fm\n",
    "Elab = 19.0                            # MeV\n",
    "Ecm  = mT  * Elab/ (mT + mP)           # MeV\n",
    "a  = 0.5 *(b * ZP * ZT) / Ecm \n",
    "theta = np.linspace(20,160,100)\n",
    "cross_section_rutherford  = ((a**2)/4 )/(np.sin(np.deg2rad(theta)/2)**4)\n",
    "\n",
    "#CM cross section\n",
    "J = (λ * np.cos(theta_cm_rad ) + 1 ) / (λ**2  + 1 + 2 * λ * np.cos(theta_cm_rad))**(3/2)\n",
    "cross_section_cm = (cross_section_lab * J )*1e24  \n",
    "\n",
    "cross_section_error_cm = cross_section_error * J * 1e24\n",
    "plt.plot(theta_cm_deg, cross_section_cm, 'o', label='CM Cross Section', color = 'b')\n",
    "plt.plot(theta, cross_section_rutherford*1e-2,  label='Rutherford Cross Section', color = 'r')\n",
    "plt.errorbar(theta_cm_deg, cross_section_cm, yerr=cross_section_error_cm,\n",
    "             fmt='o', capsize=4, color = 'b')\n",
    "plt.legend()\n",
    "plt.yscale('log')\n",
    "plt.title('Cross Section vs. CM Angle')\n",
    "plt.xlabel(r'$\\theta$_CM (°)')\n",
    "plt.ylabel(r'$\\frac{d\\sigma}{d\\Omega}$ (barns/sr)')\n",
    "plt.grid()\n",
    "\n",
    "print(\"Experimental Cross Section in CM Frame:\")\n",
    "for i in range(len(theta_cm_deg)):\n",
    "    print(f\"θ_CM = {theta_cm_deg[i]:.2f}°: σ_CM = {cross_section_cm[i]:.3f} ± {cross_section_error_cm[i]:.3f} b/sr\")\n"
   ]
  },
  {
   "cell_type": "markdown",
   "id": "0f8a7285",
   "metadata": {},
   "source": [
    "| θ_lab (°) | θ_CM (°) | σ_lab (b/sr) | σ_CM (b/sr) |\n",
    "|-----------|----------|---------------|--------------|\n",
    "|    30     |  34.04   |    11.373     |     9.051    |\n",
    "|    60     |  67.01   |     0.792     |     0.695    |\n",
    "|    90     |  98.10   |     0.188     |     0.190    |\n",
    "|   120     | 127.01   |     0.062     |     0.073    |\n",
    "|   150     | 154.04   |     0.028     |     0.037    |\n"
   ]
  },
  {
   "cell_type": "code",
   "execution_count": null,
   "id": "0a0410d2",
   "metadata": {},
   "outputs": [],
   "source": []
  }
 ],
 "metadata": {
  "kernelspec": {
   "display_name": "Python 3",
   "language": "python",
   "name": "python3"
  },
  "language_info": {
   "codemirror_mode": {
    "name": "ipython",
    "version": 3
   },
   "file_extension": ".py",
   "mimetype": "text/x-python",
   "name": "python",
   "nbconvert_exporter": "python",
   "pygments_lexer": "ipython3",
   "version": "3.12.3"
  }
 },
 "nbformat": 4,
 "nbformat_minor": 5
}
